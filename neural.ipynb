{
  "nbformat": 4,
  "nbformat_minor": 0,
  "metadata": {
    "colab": {
      "provenance": [],
      "authorship_tag": "ABX9TyNDFDJI950PfcVnBpiRYUV7",
      "include_colab_link": true
    },
    "kernelspec": {
      "name": "python3",
      "display_name": "Python 3"
    },
    "language_info": {
      "name": "python"
    }
  },
  "cells": [
    {
      "cell_type": "markdown",
      "metadata": {
        "id": "view-in-github",
        "colab_type": "text"
      },
      "source": [
        "<a href=\"https://colab.research.google.com/github/sayand01/pythonscript/blob/main/neural.ipynb\" target=\"_parent\"><img src=\"https://colab.research.google.com/assets/colab-badge.svg\" alt=\"Open In Colab\"/></a>"
      ]
    },
    {
      "cell_type": "code",
      "execution_count": 15,
      "metadata": {
        "colab": {
          "base_uri": "https://localhost:8080/"
        },
        "id": "vUCWvfaeJXXk",
        "outputId": "a99e321f-e0ab-4df3-c205-e72294671b0a"
      },
      "outputs": [
        {
          "output_type": "stream",
          "name": "stdout",
          "text": [
            "1/1 [==============================] - 0s 69ms/step\n",
            "[[ 0.2422395   0.23298255  0.13758893 -0.26051015 -0.1964608   0.00854991\n",
            "   0.1310802  -0.21193069 -0.31359655 -0.00795517]]\n"
          ]
        }
      ],
      "source": [
        "import tensorflow as tf\n",
        "from tensorflow.keras.layers import Flatten, Dense\n",
        "from tensorflow.keras.models import Sequential\n",
        "import numpy as np\n",
        "import cv2\n",
        "\n",
        "# Load your image\n",
        "image = cv2.imread('/content/6.jpg')\n",
        "\n",
        "# Resize the image to 28x28 pixels\n",
        "image_resized = cv2.resize(image, (28, 28))\n",
        "\n",
        "# Convert the image to grayscale\n",
        "image_gray = cv2.cvtColor(image_resized, cv2.COLOR_BGR2GRAY)\n",
        "\n",
        "# Normalize the pixel values\n",
        "image_normalized = image_gray / 255.0\n",
        "\n",
        "# Reshape the image to match the input shape expected by the model\n",
        "image_reshaped = np.expand_dims(image_normalized, axis=0)\n",
        "\n",
        "# Define your model\n",
        "model = Sequential([\n",
        "    Flatten(input_shape=(28, 28)),\n",
        "    Dense(128, activation='relu'),\n",
        "    Dense(10)\n",
        "])\n",
        "\n",
        "# Compile the model\n",
        "model.compile(\n",
        "    optimizer=tf.keras.optimizers.Adam(0.001),\n",
        "    loss=tf.keras.losses.SparseCategoricalCrossentropy(from_logits=True),\n",
        "    metrics=[tf.keras.metrics.SparseCategoricalAccuracy()]\n",
        ")\n",
        "\n",
        "# Make predictions\n",
        "predictions = model.predict(image_reshaped)\n",
        "\n",
        "# Display predictions\n",
        "print(predictions)"
      ]
    }
  ]
}