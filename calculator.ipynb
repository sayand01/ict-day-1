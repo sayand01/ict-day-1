{
  "nbformat": 4,
  "nbformat_minor": 0,
  "metadata": {
    "colab": {
      "provenance": [],
      "authorship_tag": "ABX9TyMiqRrQEorikpDrDJUUbDqH",
      "include_colab_link": true
    },
    "kernelspec": {
      "name": "python3",
      "display_name": "Python 3"
    },
    "language_info": {
      "name": "python"
    }
  },
  "cells": [
    {
      "cell_type": "markdown",
      "metadata": {
        "id": "view-in-github",
        "colab_type": "text"
      },
      "source": [
        "<a href=\"https://colab.research.google.com/github/sayand01/ict-day-1/blob/main/Untitled0.ipynb\" target=\"_parent\"><img src=\"https://colab.research.google.com/assets/colab-badge.svg\" alt=\"Open In Colab\"/></a>"
      ]
    },
    {
      "cell_type": "code",
      "source": [
        "class Calculator:\n",
        "    def add(self, x, y):\n",
        "        return x + y\n",
        "\n",
        "    def subtract(self, x, y):\n",
        "        return x - y\n",
        "\n",
        "    def multiply(self, x, y):\n",
        "        return x * y\n",
        "\n",
        "    def divide(self, x, y):\n",
        "        if y == 0:\n",
        "            return \"Error: Division by zero!\"\n",
        "        return x / y\n",
        "\n",
        "    def calculate(self, expression):\n",
        "        try:\n",
        "            # Splitting the expression into operands and operator\n",
        "            operands = expression.split()\n",
        "            x = int(operands[0])\n",
        "            operator = operands[1]\n",
        "            y = int(operands[2])\n",
        "\n",
        "            # Performing the operation based on the operator\n",
        "            if operator == '+':\n",
        "                return self.add(x, y)\n",
        "            elif operator == '-':\n",
        "                return self.subtract(x, y)\n",
        "            elif operator == '*':\n",
        "                return self.multiply(x, y)\n",
        "            elif operator == '/':\n",
        "                return self.divide(x, y)\n",
        "            else:\n",
        "                return \"Error: Invalid operator!\"\n",
        "        except Exception as e:\n",
        "            # If there's an error during calculation, print the error message\n",
        "            return \"Error: \" + str(e)\n",
        "\n",
        "\n",
        "def main():\n",
        "    # Creating an instance of the Calculator class\n",
        "    calculator = Calculator()\n",
        "\n",
        "    # Prompting the user to input an expression\n",
        "    expression = input(\"Enter an expression (e.g., 1 + 2): \")\n",
        "\n",
        "    # Calling the calculate method of the Calculator instance and printing the result\n",
        "    result = calculator.calculate(expression)\n",
        "    print(\"Result:\", result)\n",
        "\n",
        "\n",
        "# Calling the main function to start the program\n",
        "if __name__ == \"__main__\":\n",
        "    main()\n"
      ],
      "metadata": {
        "id": "FwUX9y471Gcg"
      },
      "execution_count": null,
      "outputs": []
    }
  ]
}
